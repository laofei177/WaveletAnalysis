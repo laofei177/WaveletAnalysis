{
 "cells": [
  {
   "cell_type": "markdown",
   "metadata": {},
   "source": [
    "# <span style=\"color:red\">Continuous Wavelet Spectrum </span>"
   ]
  },
  {
   "cell_type": "markdown",
   "metadata": {},
   "source": [
    "# Example for sine waves"
   ]
  },
  {
   "cell_type": "markdown",
   "metadata": {},
   "source": [
    "First written on Nov,19, 2014:  \n",
    "Author: tmiyama at gmail"
   ]
  },
  {
   "cell_type": "markdown",
   "metadata": {},
   "source": [
    "# Introduction"
   ]
  },
  {
   "cell_type": "markdown",
   "metadata": {},
   "source": [
    "Wavelet anaysis tool by Torrence and Compo [1998] is very popular in climatology. However, Liu et al. [2007] has pointed out that the method by Torrence and Compo [1998] has a bias in favor of large scales.  \n",
    "  \n",
    "This notebook is the translation of Liu et al.'s matlab test program  \n",
    "http://ocgweb.marine.usf.edu/~liu/wavelet_test_ElNino3_YLiu.m  \n",
    "to python.\n",
    "\n",
    "This notebook use an artificial sine curve for a test correponding to Liu et al. [2007].\n",
    "\n"
   ]
  },
  {
   "cell_type": "markdown",
   "metadata": {},
   "source": [
    "__References:__  \n",
    "  \n",
    "* Liu, Y., X.S. Liang, and R.H. Weisberg, 2007: Rectification of the bias in the wavelet power spectrum. Journal of Atmospheric and Oceanic Technology, 24(12), 2093-2102. http://ocgweb.marine.usf.edu/~liu/wavelet.html\n",
    "   \n",
    "* Torrence, C., and G. P. Compo, 1998: A practical guide to wavelet analysis. Bull. Amer. Meteor. Soc., 79, 6178. http://paos.colorado.edu/research/wavelets/ "
   ]
  },
  {
   "cell_type": "markdown",
   "metadata": {},
   "source": [
    "Here is the comment in the original matlab script.\n",
    "\n",
    "% Rectification of the bias in the Wavelet power spectrum with the data set  \n",
    "% (Nino3.dat) given by Torrence and Compo (1998).  This code is modified  \n",
    "% from wavetest.m, the example script provided by Torrence and Compo\n",
    "% (1998), to demonstrate how to rectify the bias in wavelet power spectrum.  \n",
    "% This code generates Figure 4 of Liu et al. (2007).  \n",
    "%  \n",
    "% Yonggang Liu, 2006.4.12  \n",
    "%  \n",
    "% E-mail:  yliu18@gmail.com  \n",
    "% http://ocgweb.marine.usf.edu/~liu/wavelet.html  \n",
    "%\n",
    "% References:  \n",
    "%\n",
    "% Liu, Y., X.S. Liang, and R.H. Weisberg, 2007: Rectification of the bias\n",
    "% in the wavelet power spectrum. Journal of Atmospheric and Oceanic \n",
    "% Technology, 24(12), 2093-2102.\n",
    "%   \n",
    "% Torrence, C., and G. P. Compo, 1998: A practical guide to wavelet \n",
    "% analysis. Bull. Amer. Meteor. Soc., 79, 61�78.\n",
    "%========================================================================  \n",
    "% Here starts with the original file header:\n",
    "  \n",
    "  \n",
    "%WAVETEST Example Matlab script for WAVELET, using NINO3 SST dataset  \n",
    "%  \n",
    "% See \"http://paos.colorado.edu/research/wavelets/\"  \n",
    "% Written January 1998 by C. Torrence  \n",
    "%  \n",
    "% Modified Oct 1999, changed Global Wavelet Spectrum (GWS) to be sideways,  \n",
    "%   changed all \"log\" to \"log2\", changed logarithmic axis on GWS  \n",
    "%   a normal axis.    \n"
   ]
  },
  {
   "cell_type": "markdown",
   "metadata": {},
   "source": [
    "# Reading modules and data"
   ]
  },
  {
   "cell_type": "markdown",
   "metadata": {},
   "source": [
    "__Read usual modules__"
   ]
  },
  {
   "cell_type": "code",
   "execution_count": 1,
   "metadata": {
    "collapsed": false,
    "jupyter": {
     "outputs_hidden": false
    }
   },
   "outputs": [],
   "source": [
    "import numpy as np\n",
    "import matplotlib.pyplot as plt\n",
    "%matplotlib inline"
   ]
  },
  {
   "cell_type": "markdown",
   "metadata": {},
   "source": [
    "__Read Wavelet module__\n",
    "This module is the translation from the matlab tools by Torrence and Compo (1998).  \n",
    "http://paos.colorado.edu/research/wavelets/software.html  \n",
    "\n",
    "See the bottom of this notebook for the inside of this module."
   ]
  },
  {
   "cell_type": "code",
   "execution_count": 2,
   "metadata": {
    "collapsed": false,
    "jupyter": {
     "outputs_hidden": false
    }
   },
   "outputs": [],
   "source": [
    "from wavelet import wavelet"
   ]
  },
  {
   "cell_type": "markdown",
   "metadata": {},
   "source": [
    "__Construct sine waves__   \n",
    "Section 5 in Liu et al. [2007]"
   ]
  },
  {
   "cell_type": "code",
   "execution_count": 3,
   "metadata": {
    "collapsed": false,
    "jupyter": {
     "outputs_hidden": false
    }
   },
   "outputs": [
    {
     "data": {
      "image/png": "[encoded data removed]",
      "text/plain": [
       "<Figure size 432x288 with 1 Axes>"
      ]
     },
     "metadata": {
      "needs_background": "light"
     },
     "output_type": "display_data"
    }
   ],
   "source": [
    "dt=1./24. # 1 hour\n",
    "t1=1.\n",
    "t2=8.\n",
    "t3=32.\n",
    "t4=128.\n",
    "t5=365.\n",
    "n=365*24*13\n",
    "t=np.arange(n)*dt\n",
    "pi2=np.pi*2.\n",
    "\n",
    "#5 sine waves\n",
    "sst=np.sin(t/t1*pi2)+np.sin(t/t2*pi2)+np.sin(t/t3*pi2)+np.sin(t/t4*pi2)+np.sin(t/t5*pi2) \n",
    "\n",
    "time = t/365. + 1993.0   # construct time array\n",
    "xlim = [time[0],time[-1]]  # plotting range\n",
    "\n",
    "plt.plot(time,sst)\n",
    "xrange=plt.xlim(xlim)"
   ]
  },
  {
   "cell_type": "markdown",
   "metadata": {},
   "source": [
    "# Wavelet Spectrum by Torrence and Compo [1998]"
   ]
  },
  {
   "cell_type": "markdown",
   "metadata": {},
   "source": [
    "__Set wavelet parameters__"
   ]
  },
  {
   "cell_type": "code",
   "execution_count": 4,
   "metadata": {
    "collapsed": false,
    "jupyter": {
     "outputs_hidden": false
    }
   },
   "outputs": [],
   "source": [
    "pad = 1      # pad the time series with zeroes (recommended)\n",
    "dj = 1./8.    # this will do 8 sub-octaves per octave\n",
    "s0 = 6.*dt    # this says start at a scale of 6hour\n",
    "j1 = 12./dj    # this says do 12 powers-of-two with dj sub-octaves each\n",
    "mother = 'Morlet'"
   ]
  },
  {
   "cell_type": "markdown",
   "metadata": {},
   "source": [
    "__Wavelet transform__"
   ]
  },
  {
   "cell_type": "code",
   "execution_count": 5,
   "metadata": {
    "collapsed": false,
    "jupyter": {
     "outputs_hidden": false
    }
   },
   "outputs": [],
   "source": [
    "wave,period,scale,coi = wavelet(sst,dt,pad,dj,s0,j1,mother);\n",
    "power = (np.abs(wave))**2         # compute wavelet power spectrum"
   ]
  },
  {
   "cell_type": "markdown",
   "metadata": {},
   "source": [
    "__Global wavelet spectrum__ "
   ]
  },
  {
   "cell_type": "code",
   "execution_count": 6,
   "metadata": {
    "collapsed": false,
    "jupyter": {
     "outputs_hidden": false
    }
   },
   "outputs": [],
   "source": [
    "global_ws = power.sum(axis=1)/float(n)   # time-average over all times"
   ]
  },
  {
   "cell_type": "markdown",
   "metadata": {},
   "source": [
    "# Wavelet Spectrum by Liu et al [2007]"
   ]
  },
  {
   "cell_type": "markdown",
   "metadata": {},
   "source": [
    "<span style=\"color:red\">__Bias rectification__  </span>\n",
    "  \n",
    "divided by scales  "
   ]
  },
  {
   "cell_type": "code",
   "execution_count": 7,
   "metadata": {
    "collapsed": false,
    "jupyter": {
     "outputs_hidden": false
    }
   },
   "outputs": [],
   "source": [
    "########################\n",
    "#  Spectrum\n",
    "########################\n",
    "powers=np.zeros_like(power)\n",
    "for k in range(len(scale)):\n",
    "    powers[k,:] = power[k,:]/scale[k]\n",
    "\n",
    "########################\n",
    "#  Global Spectrum\n",
    "########################\n",
    "global_wss = global_ws/scale   "
   ]
  },
  {
   "cell_type": "markdown",
   "metadata": {},
   "source": [
    "# PLOT"
   ]
  },
  {
   "cell_type": "markdown",
   "metadata": {},
   "source": [
    "Corresponding to Fig. 2 in Liu et al. (2007)"
   ]
  },
  {
   "cell_type": "code",
   "execution_count": 10,
   "metadata": {
    "collapsed": false,
    "jupyter": {
     "outputs_hidden": false
    }
   },
   "outputs": [
    {
     "data": {
      "image/png": "[encoded data removed]",
      "text/plain": [
       "<Figure size 720x720 with 5 Axes>"
      ]
     },
     "metadata": {
      "needs_background": "light"
     },
     "output_type": "display_data"
    }
   ],
   "source": [
    "#figure size\n",
    "fig=plt.figure(figsize=(10,10))\n",
    "\n",
    "# subplot positions\n",
    "width= 0.65\n",
    "height = 0.28;\n",
    "pos1a = [0.1, 0.75, width, 0.2]\n",
    "pos1b = [0.1, 0.4, width, height]\n",
    "pos1c = [0.79, 0.4, 0.18, height]\n",
    "pos1d = [0.1, 0.02, width, height]\n",
    "pos1e = [0.79,0.02, 0.18, height]\n",
    "#########################################\n",
    "#---- a) Original signal\n",
    "#########################################\n",
    "ax=fig.add_axes(pos1a)\n",
    "ax.plot(time,sst,\"r-\")\n",
    "ax.set_ylabel('')\n",
    "plt.title('a) Original Sine curve')\n",
    "\n",
    "#########################################\n",
    "#   b) Wavelet spectrum\n",
    "#########################################\n",
    "\n",
    "#--- Contour plot wavelet power spectrum\n",
    "bx=fig.add_axes(pos1b,sharex=ax) \n",
    "Yticks = 2.**(np.arange(np.int(np.log2(np.min(period))),np.int(np.log2(np.max(period)))+1))\n",
    "bx.contourf(time,np.log2(period),np.log2(power))\n",
    "bx.set_xlabel('Time (year)')\n",
    "bx.set_ylabel('Period (days)')\n",
    "import matplotlib.ticker as ticker\n",
    "ymajorLocator=ticker.FixedLocator(np.log2(Yticks))\n",
    "bx.yaxis.set_major_locator( ymajorLocator )\n",
    "ticks=bx.yaxis.set_ticklabels(Yticks)\n",
    "plt.title('b) Wavelet Power Spectrum')\n",
    "\n",
    "\n",
    "# cone-of-influence, anything \"below\" is dubious\n",
    "ts = time;\n",
    "coi_area = np.concatenate([[np.max(scale)], coi, [np.max(scale)],[np.max(scale)]])\n",
    "ts_area = np.concatenate([[ts[0]], ts, [ts[-1]] ,[ts[0]]]);\n",
    "L = bx.plot(ts_area,np.log2(coi_area),'k',linewidth=3)\n",
    "F=bx.fill(ts_area,np.log2(coi_area),'k',alpha=0.3,hatch=\"x\")\n",
    "\n",
    "#########################################\n",
    "#   c) Global Wavelet spectrum\n",
    "#########################################\n",
    "\n",
    "#--- Plot global wavelet spectrum\n",
    "cx=fig.add_axes(pos1c,sharey=bx)\n",
    "cx.plot(np.log2(global_ws),np.log2(period),\"r-\")\n",
    "ylim=cx.set_ylim(np.log2([period.min(),period.max()]))\n",
    "cx.invert_yaxis()\n",
    "plt.title('c) Global Wavelet Spectrum')\n",
    "xrangec=cx.set_xlim([0,1.25*np.max(np.log2(global_ws))])\n",
    "\n",
    "#########################################\n",
    "#   d) Wavelet spectrum\n",
    "#########################################\n",
    "\n",
    "#--- Contour plot wavelet power spectrum\n",
    "dx=fig.add_axes(pos1d,sharex=ax)\n",
    "dx.contourf(time,np.log2(period),np.log2(powers))\n",
    "dx.set_xlabel('Time (year)')\n",
    "dx.set_ylabel('Period (days)')\n",
    "ymajorLocator=ticker.FixedLocator(np.log2(Yticks))\n",
    "dx.yaxis.set_major_locator( ymajorLocator )\n",
    "dx.yaxis.set_ticklabels(Yticks)\n",
    "plt.title('d) Wavelet Power Spectrum')\n",
    "\n",
    "\n",
    "# cone-of-influence, anything \"below\" is dubios\n",
    "L = dx.plot(ts_area,np.log2(coi_area),'k',linewidth=3)\n",
    "F=dx.fill(ts_area,np.log2(coi_area),'k',alpha=0.3,hatch=\"x\")\n",
    "\n",
    "#########################################\n",
    "#   e) Global Wavelet spectrum\n",
    "#########################################\n",
    "\n",
    "#--- Plot global wavelet spectrum\n",
    "ex=fig.add_axes(pos1e,sharey=dx)\n",
    "ex.plot(np.log2(global_wss),np.log2(period),\"r-\")\n",
    "ylim=ex.set_ylim(np.log2([period.min(),period.max()]))\n",
    "ex.invert_yaxis()\n",
    "plt.title('e) Global Wavelet Spectrum')\n",
    "xrangec=ex.set_xlim([0,1.25*np.max(np.log2(global_wss))])\n",
    "\n",
    "#########################################\n",
    "#   Save fig\n",
    "#########################################\n",
    "plt.savefig(\"wavelet_test_sine.png\")"
   ]
  },
  {
   "cell_type": "markdown",
   "metadata": {},
   "source": [
    "# List of Modules"
   ]
  },
  {
   "cell_type": "code",
   "execution_count": 11,
   "metadata": {
    "collapsed": false,
    "jupyter": {
     "outputs_hidden": false
    }
   },
   "outputs": [
    {
     "name": "stdout",
     "output_type": "stream",
     "text": [
      "def wavelet(Y,dt,pad=0.,dj=0.25,s0=-1,J1=-1,mother=\"MORLET\",param=-1):\n",
      "    \"\"\"\n",
      "This function is the translation of wavelet.m by Torrence and Compo\n",
      "\n",
      "import wave_bases from wave_bases.py\n",
      "\n",
      "The following is the original comment in wavelet.m\n",
      "\n",
      "#WAVELET  1D Wavelet transform with optional singificance testing\n",
      "%\n",
      "%   [WAVE,PERIOD,SCALE,COI] = wavelet(Y,DT,PAD,DJ,S0,J1,MOTHER,PARAM)\n",
      "%\n",
      "%   Computes the wavelet transform of the vector Y (length N),\n",
      "%   with sampling rate DT.\n",
      "%\n",
      "%   By default, the Morlet wavelet (k0=6) is used.\n",
      "%   The wavelet basis is normalized to have total energy=1 at all scales.\n",
      "%\n",
      "%\n",
      "% INPUTS:\n",
      "%\n",
      "%    Y = the time series of length N.\n",
      "%    DT = amount of time between each Y value, i.e. the sampling time.\n",
      "%\n",
      "% OUTPUTS:\n",
      "%\n",
      "%    WAVE is the WAVELET transform of Y. This is a complex array\n",
      "%    of dimensions (N,J1+1). FLOAT(WAVE) gives the WAVELET amplitude,\n",
      "%    ATAN(IMAGINARY(WAVE),FLOAT(WAVE) gives the WAVELET phase.\n",
      "%    The WAVELET power spectrum is ABS(WAVE)^2.\n",
      "%    Its units are sigma^2 (the time series variance).\n",
      "%\n",
      "%\n",
      "% OPTIONAL INPUTS:\n",
      "% \n",
      "% *** Note *** setting any of the following to -1 will cause the default\n",
      "%               value to be used.\n",
      "%\n",
      "%    PAD = if set to 1 (default is 0), pad time series with enough zeroes to get\n",
      "%         N up to the next higher power of 2. This prevents wraparound\n",
      "%         from the end of the time series to the beginning, and also\n",
      "%         speeds up the FFT's used to do the wavelet transform.\n",
      "%         This will not eliminate all edge effects (see COI below).\n",
      "%\n",
      "%    DJ = the spacing between discrete scales. Default is 0.25.\n",
      "%         A smaller # will give better scale resolution, but be slower to plot.\n",
      "%\n",
      "%    S0 = the smallest scale of the wavelet.  Default is 2*DT.\n",
      "%\n",
      "%    J1 = the # of scales minus one. Scales range from S0 up to S0*2^(J1*DJ),\n",
      "%        to give a total of (J1+1) scales. Default is J1 = (LOG2(N DT/S0))/DJ.\n",
      "%\n",
      "%    MOTHER = the mother wavelet function.\n",
      "%             The choices are 'MORLET', 'PAUL', or 'DOG'\n",
      "%\n",
      "%    PARAM = the mother wavelet parameter.\n",
      "%            For 'MORLET' this is k0 (wavenumber), default is 6.\n",
      "%            For 'PAUL' this is m (order), default is 4.\n",
      "%            For 'DOG' this is m (m-th derivative), default is 2.\n",
      "%\n",
      "%\n",
      "% OPTIONAL OUTPUTS:\n",
      "%\n",
      "%    PERIOD = the vector of \"Fourier\" periods (in time units) that corresponds\n",
      "%           to the SCALEs.\n",
      "%\n",
      "%    SCALE = the vector of scale indices, given by S0*2^(j*DJ), j=0...J1\n",
      "%            where J1+1 is the total # of scales.\n",
      "%\n",
      "%    COI = if specified, then return the Cone-of-Influence, which is a vector\n",
      "%        of N points that contains the maximum period of useful information\n",
      "%        at that particular time.\n",
      "%        Periods greater than this are subject to edge effects.\n",
      "%        This can be used to plot COI lines on a contour plot by doing:\n",
      "%\n",
      "%              contour(time,log(period),log(power))\n",
      "%              plot(time,log(coi),'k')\n",
      "%\n",
      "%----------------------------------------------------------------------------\n",
      "%   Copyright (C) 1995-2004, Christopher Torrence and Gilbert P. Compo\n",
      "%\n",
      "%   This software may be used, copied, or redistributed as long as it is not\n",
      "%   sold and this copyright notice is reproduced on each copy made. This\n",
      "%   routine is provided as is without any express or implied warranties\n",
      "%   whatsoever.\n",
      "%\n",
      "% Notice: Please acknowledge the use of the above software in any publications:\n",
      "%    ``Wavelet software was provided by C. Torrence and G. Compo,\n",
      "%      and is available at URL: http://paos.colorado.edu/research/wavelets/''.\n",
      "%\n",
      "% Reference: Torrence, C. and G. P. Compo, 1998: A Practical Guide to\n",
      "%            Wavelet Analysis. <I>Bull. Amer. Meteor. Soc.</I>, 79, 61-78.\n",
      "%\n",
      "% Please send a copy of such publications to either C. Torrence or G. Compo:\n",
      "%  Dr. Christopher Torrence               Dr. Gilbert P. Compo\n",
      "%  Research Systems, Inc.                 Climate Diagnostics Center\n",
      "%  4990 Pearl East Circle                 325 Broadway R/CDC1\n",
      "%  Boulder, CO 80301, USA                 Boulder, CO 80305-3328, USA\n",
      "%  E-mail: chris[AT]rsinc[DOT]com         E-mail: compo[AT]colorado[DOT]edu\n",
      "%----------------------------------------------------------------------------\"\"\"  \n",
      "    #modules\n",
      "    import numpy as np\n",
      "    from wave_bases import wave_bases\n",
      "    \n",
      "    #set default\n",
      "    n1 = len(Y)\n",
      "    if (s0 == -1): s0=2.*dt\n",
      "    if (dj == -1): dj = 1./4.\n",
      "    if (J1 == -1): J1=np.fix((np.log(n1*dt/s0)/np.log(2))/dj)\n",
      "    if (mother == -1): mother = 'MORLET'\n",
      "    #print \"s0=\",s0\n",
      "    #print \"J1=\",J1\n",
      "\n",
      "    #....construct time series to analyze, pad if necessary\n",
      "    x = Y - np.mean(Y);\n",
      "    if (pad == 1):\n",
      "        base2 = np.fix(np.log(n1)/np.log(2) + 0.4999)   # power of 2 nearest to N\n",
      "        temp=np.zeros(int((2**(base2+1)-n1),))\n",
      "        x=np.concatenate((x,temp))\n",
      "    \n",
      "    n = len(x)\n",
      "\n",
      "    #....construct wavenumber array used in transform [Eqn(5)]\n",
      "    k = np.arange(1,np.fix(n/2)+1)\n",
      "    k = k*(2.*np.pi)/(n*dt)\n",
      "    k = np.concatenate((np.zeros((1,)),k, -k[-2::-1]));\n",
      "\n",
      "    #....compute FFT of the (padded) time series\n",
      "    f = np.fft.fft(x)    # [Eqn(3)]\n",
      "    \n",
      "    #....construct SCALE array & empty PERIOD & WAVE arrays\n",
      "    scale=np.array([s0*2**(i*dj) for i in range(0,int(J1)+1)])\n",
      "    period = scale.copy()\n",
      "    wave = np.zeros((int(J1)+1,n),dtype=np.complex)  # define the wavelet array  # make it complex\n",
      "    # loop through all scales and compute transform\n",
      "    for a1 in range(0,int(J1)+1):\n",
      "        daughter,fourier_factor,coi,dofmin=wave_bases(mother,k,scale[a1],param)\n",
      "        wave[a1,:] = np.fft.ifft(f*daughter)  # wavelet transform[Eqn(4)]\n",
      "    period = fourier_factor*scale\n",
      "    coi=coi*dt*np.concatenate(([1.E-5],np.arange(1.,(n1+1.)/2.-1),np.flipud(np.arange(1,n1/2.)),[1.E-5])) # COI [Sec.3g]\n",
      "    wave = wave[:,:n1]  # get rid of padding before returning\n",
      "    return wave,period,scale,coi\n",
      "    # end of code\n"
     ]
    }
   ],
   "source": [
    "!cat wavelet.py"
   ]
  },
  {
   "cell_type": "code",
   "execution_count": 12,
   "metadata": {
    "collapsed": false,
    "jupyter": {
     "outputs_hidden": false
    }
   },
   "outputs": [
    {
     "name": "stdout",
     "output_type": "stream",
     "text": [
      "def wave_bases(mother,k,scale,param):\n",
      "    \"\"\"\n",
      "    This is translation of wave_bases.m by Torrence and Gilbert P. Compo\n",
      " \n",
      "    The folloing is the original README\n",
      " \n",
      "%    WAVE_BASES  1D Wavelet functions Morlet, Paul, or DOG\n",
      "%\n",
      "%  [DAUGHTER,FOURIER_FACTOR,COI,DOFMIN] = ...\n",
      "%      wave_bases(MOTHER,K,SCALE,PARAM);\n",
      "%\n",
      "%   Computes the wavelet function as a function of Fourier frequency,\n",
      "%   used for the wavelet transform in Fourier space.\n",
      "%   (This program is called automatically by WAVELET)\n",
      "%\n",
      "% INPUTS:\n",
      "%\n",
      "%    MOTHER = a string, equal to 'MORLET' or 'PAUL' or 'DOG'\n",
      "%    K = a vector, the Fourier frequencies at which to calculate the wavelet\n",
      "%    SCALE = a number, the wavelet scale\n",
      "%    PARAM = the nondimensional parameter for the wavelet function\n",
      "%\n",
      "% OUTPUTS:\n",
      "%\n",
      "%    DAUGHTER = a vector, the wavelet function\n",
      "%    FOURIER_FACTOR = the ratio of Fourier period to scale\n",
      "%    COI = a number, the cone-of-influence size at the scale\n",
      "%    DOFMIN = a number, degrees of freedom for each point in the wavelet power\n",
      "%             (either 2 for Morlet and Paul, or 1 for the DOG)\n",
      "%\n",
      "%----------------------------------------------------------------------------\n",
      "%   Copyright (C) 1995-1998, Christopher Torrence and Gilbert P. Compo\n",
      "%   University of Colorado, Program in Atmospheric and Oceanic Sciences.\n",
      "%   This software may be used, copied, or redistributed as long as it is not\n",
      "%   sold and this copyright notice is reproduced on each copy made.  This\n",
      "%   routine is provided as is without any express or implied warranties\n",
      "%   whatsoever.\n",
      "%----------------------------------------------------------------------------\n",
      "    \"\"\"\n",
      "    #import modules\n",
      "    import numpy as np\n",
      "\n",
      "    #\n",
      "    mother = mother.upper()\n",
      "    n = len(k)\n",
      "    # define Heaviside step function\n",
      "    def ksign(x):\n",
      "        y=np.zeros_like(x)\n",
      "        y[x>0]=1\n",
      "        return y\n",
      "    #\n",
      "    if mother=='MORLET':  #-----------------------------------  Morlet\n",
      "        if (param == -1): param = 6.\n",
      "        k0 = param\n",
      "        expnt = -(scale*k - k0)**2/2. *ksign(k)\n",
      "        norm = np.sqrt(scale*k[1])*(np.pi**(-0.25))*np.sqrt(n)    # total energy=N   [Eqn(7)]\n",
      "        daughter = norm*np.exp(expnt)\n",
      "        daughter = daughter*ksign(k)  # Heaviside step function\n",
      "        fourier_factor = (4.*np.pi)/(k0 + np.sqrt(2. + k0**2)) # Scale-->Fourier [Sec.3h]\n",
      "        coi = fourier_factor/np.sqrt(2)            # Cone-of-influence [Sec.3g]\n",
      "        dofmin = 2.                          # Degrees of freedom\n",
      "    elif mother=='PAUL': #--------------------------------  Paul\n",
      "        if (param == -1): param = 4.\n",
      "        m = param\n",
      "        expnt = -(scale*k)*ksign(k)\n",
      "        norm = np.sqrt(scale*k[1])*(2.**m/np.sqrt(m*np.prod(np.arange(2,2*m))))*np.sqrt(n)\n",
      "        daughter = norm*((scale*k)**m)*np.exp(expnt)\n",
      "        daughter = daughter*ksign(k)      # Heaviside step function\n",
      "        fourier_factor = 4*np.pi/(2.*m+1.)\n",
      "        coi = fourier_factor*np.sqrt(2)\n",
      "        dofmin = 2.\n",
      "    elif mother=='DOG':  #--------------------------------  DOG\n",
      "        if (param == -1): param = 2.\n",
      "        m = param\n",
      "        expnt = -(scale*k)**2 / 2.0\n",
      "        from scipy.special import gamma \n",
      "        norm = np.sqrt(scale*k[1]/gamma(m+0.5))*np.sqrt(n)\n",
      "        daughter = -norm*(1j**m)*((scale*k)**m)*np.exp(expnt);\n",
      "        fourier_factor = 2.*np.pi*np.sqrt(2./(2.*m+1.))\n",
      "        coi = fourier_factor/np.sqrt(2)\n",
      "        dofmin = 1.\n",
      "    else:\n",
      "        raise Exception(\"Mother must be one of MORLET,PAUL,DOG\")\n",
      "\n",
      "\n",
      "    return daughter,fourier_factor,coi,dofmin \n",
      "\n",
      "    # end of code\n"
     ]
    }
   ],
   "source": [
    "!cat wave_bases.py"
   ]
  },
  {
   "cell_type": "code",
   "execution_count": null,
   "metadata": {
    "collapsed": false,
    "jupyter": {
     "outputs_hidden": false
    }
   },
   "outputs": [],
   "source": []
  },
  {
   "cell_type": "code",
   "execution_count": null,
   "metadata": {},
   "outputs": [],
   "source": []
  },
  {
   "cell_type": "code",
   "execution_count": null,
   "metadata": {},
   "outputs": [],
   "source": []
  },
  {
   "cell_type": "code",
   "execution_count": null,
   "metadata": {},
   "outputs": [],
   "source": []
  },
  {
   "cell_type": "code",
   "execution_count": null,
   "metadata": {},
   "outputs": [],
   "source": []
  }
 ],
 "metadata": {
  "kernelspec": {
   "display_name": "Python 3",
   "language": "python",
   "name": "python3"
  },
  "language_info": {
   "codemirror_mode": {
    "name": "ipython",
    "version": 3
   },
   "file_extension": ".py",
   "mimetype": "text/x-python",
   "name": "python",
   "nbconvert_exporter": "python",
   "pygments_lexer": "ipython3",
   "version": "3.7.9"
  }
 },
 "nbformat": 4,
 "nbformat_minor": 4
}
